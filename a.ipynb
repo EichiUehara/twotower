{
 "cells": [
  {
   "cell_type": "code",
   "execution_count": 66,
   "metadata": {},
   "outputs": [
    {
     "name": "stdout",
     "output_type": "stream",
     "text": [
      "106.064998785555\n"
     ]
    }
   ],
   "source": [
    "import math\n",
    "target = 100_000_000\n",
    "def embedding_dim(n):\n",
    "    sum_log = 1\n",
    "    quad_root = int(math.sqrt(math.sqrt(math.sqrt(target))))\n",
    "    for i in range(2, quad_root):\n",
    "        sum_log += math.log(target, i)\n",
    "    return int(sum_log)\n",
    "print(embedding_dim(target))"
   ]
  },
  {
   "cell_type": "code",
   "execution_count": 2,
   "metadata": {},
   "outputs": [
    {
     "name": "stdout",
     "output_type": "stream",
     "text": [
      "log base 2 is larger than log base 10: 26.575424759098897\n"
     ]
    }
   ],
   "source": [
    "# the logic to use log base 2 if the number is larger than 10_000_000 else switch to log base 10\n",
    "if log2 > 7:\n",
    "    print(f'log base 2 is larger than log base 10: {log2}')\n",
    "else:\n",
    "    print(f'log base 10 is larger than log base 2: {log10}')"
   ]
  },
  {
   "cell_type": "code",
   "execution_count": null,
   "metadata": {},
   "outputs": [],
   "source": []
  }
 ],
 "metadata": {
  "kernelspec": {
   "display_name": "base",
   "language": "python",
   "name": "python3"
  },
  "language_info": {
   "codemirror_mode": {
    "name": "ipython",
    "version": 3
   },
   "file_extension": ".py",
   "mimetype": "text/x-python",
   "name": "python",
   "nbconvert_exporter": "python",
   "pygments_lexer": "ipython3",
   "version": "3.12.2"
  }
 },
 "nbformat": 4,
 "nbformat_minor": 2
}
